{
 "cells": [
  {
   "cell_type": "code",
   "execution_count": 2,
   "metadata": {},
   "outputs": [],
   "source": [
    "import numpy as np\n",
    "import copy\n",
    "import json\n",
    "import re\n",
    "from fasttext import FastVector\n",
    "import pandas as pd\n",
    "import tensorflow as tf\n",
    "import pickle\n",
    "from sklearn.datasets import load_linnerud\n",
    "from sklearn.model_selection import train_test_split"
   ]
  },
  {
   "cell_type": "code",
   "execution_count": 3,
   "metadata": {},
   "outputs": [
    {
     "name": "stdout",
     "output_type": "stream",
     "text": [
      "reading word vectors from /home/basavaraj/Downloads/wiki.en.vec\n"
     ]
    }
   ],
   "source": [
    "en_dictionary = FastVector(vector_file='/home/basavaraj/Downloads/wiki.en.vec')"
   ]
  },
  {
   "cell_type": "code",
   "execution_count": 4,
   "metadata": {
    "collapsed": true
   },
   "outputs": [],
   "source": [
    "def cosine(u, v):\n",
    "    return np.dot(u, v) / (np.linalg.norm(u) * np.linalg.norm(v))"
   ]
  },
  {
   "cell_type": "code",
   "execution_count": 13,
   "metadata": {},
   "outputs": [],
   "source": [
    "import re\n",
    "X_words = []\n",
    "Y_words = []\n",
    "inp = []\n",
    "out = []\n",
    "i=0\n",
    "err=0\n",
    "with open('./wiktionary.csv','r') as f:\n",
    "    line = f.readlines()\n",
    "    while i<len(line):\n",
    "        try:\n",
    "            words = [line[i+4].strip(),line[i].strip(),line[i+2].strip()]\n",
    "            \n",
    "        except:\n",
    "            break\n",
    "        i+=8\n",
    "        try:\n",
    "            a = list(en_dictionary[words[1].lower()])\n",
    "            b = list(en_dictionary[words[2].lower()])\n",
    "            c = list(en_dictionary[words[0].lower()])\n",
    "            X_words.append((words[1].lower(),words[2].lower()))\n",
    "            Y_words.append(words[0].lower())\n",
    "            inp.append(a+b)\n",
    "            out.append(c)\n",
    "            \n",
    "        except Exception as e:\n",
    "            err+=1\n",
    "                "
   ]
  },
  {
   "cell_type": "code",
   "execution_count": 14,
   "metadata": {},
   "outputs": [
    {
     "name": "stdout",
     "output_type": "stream",
     "text": [
      "316 316 316 316 85\n"
     ]
    }
   ],
   "source": [
    "print len(inp),len(out),len(X),len(Y),err"
   ]
  },
  {
   "cell_type": "code",
   "execution_count": 26,
   "metadata": {
    "collapsed": true
   },
   "outputs": [],
   "source": [
    "X, y = inp,out\n",
    "X_train, X_test, y_train, y_test = X[0:250],X[250:],y[0:250],y[250:]"
   ]
  },
  {
   "cell_type": "code",
   "execution_count": 27,
   "metadata": {
    "collapsed": true
   },
   "outputs": [],
   "source": [
    "learning_rate = 0.0005\n",
    "epochs = 300\n",
    "batch_size = 1\n",
    "\n",
    "x = tf.placeholder(tf.float32, [None, 600], name='x')  # 3 features\n",
    "y = tf.placeholder(tf.float32, [None, 300], name='y')  # 3 outputs\n",
    "\n",
    "# hidden layer 1\n",
    "W1 = tf.Variable(tf.truncated_normal([600, 450], stddev=0.03), name='W1')\n",
    "b1 = tf.Variable(tf.truncated_normal([450]), name='b1')\n",
    "\n",
    "# hidden layer 2\n",
    "W2 = tf.Variable(tf.truncated_normal([450, 450], stddev=0.03), name='W2')\n",
    "b2 = tf.Variable(tf.truncated_normal([450]), name='b2')\n",
    "\n",
    "# hidden layer 3\n",
    "W3 = tf.Variable(tf.truncated_normal([450, 450], stddev=0.03), name='W3')\n",
    "b3 = tf.Variable(tf.truncated_normal([450]), name='b3')\n",
    "\n",
    "# hidden layer 2\n",
    "W4 = tf.Variable(tf.truncated_normal([450, 450], stddev=0.03), name='W4')\n",
    "b4 = tf.Variable(tf.truncated_normal([450]), name='b4')\n",
    "\n",
    "# hidden layer 2\n",
    "W5 = tf.Variable(tf.truncated_normal([450,300], stddev=0.03), name='W5')\n",
    "b5 = tf.Variable(tf.truncated_normal([300]), name='b5')\n",
    "\n",
    "######################## Activations, outputs ######################\n",
    "# output hidden layer 1\n",
    "hidden_out = tf.nn.softplus(tf.add(tf.matmul(x, W1), b1))\n",
    "\n",
    "hidden_out1 = tf.nn.softplus(tf.add(tf.matmul(hidden_out, W2), b2))\n",
    "hidden_out2 = tf.nn.softplus(tf.add(tf.matmul(hidden_out1, W3), b3))\n",
    "hidden_out3 = tf.nn.softplus(tf.add(tf.matmul(hidden_out2, W4), b4))\n",
    "\n",
    "# total output\n",
    "y_ = tf.nn.softplus(tf.add(tf.matmul(hidden_out3, W5), b5))\n",
    "\n",
    "####################### Loss Function  #########################\n",
    "mse = tf.losses.mean_squared_error(y, y_)\n",
    "\n",
    "####################### Optimizer      #########################\n",
    "optimizer = tf.train.GradientDescentOptimizer(learning_rate=learning_rate).minimize(mse)\n",
    "\n",
    "###################### Initialize, Accuracy and Run #################\n",
    "# initialize variables\n",
    "init_op = tf.global_variables_initializer()\n",
    "\n",
    "# accuracy for the test set\n",
    "accuracy = tf.reduce_mean(tf.square(tf.subtract(y, y_)))  # or could use tf.losses.mean_squared_error"
   ]
  },
  {
   "cell_type": "code",
   "execution_count": 28,
   "metadata": {},
   "outputs": [
    {
     "name": "stdout",
     "output_type": "stream",
     "text": [
      "Epoch: 1 cost = 0.890\n",
      "Epoch: 11 cost = 0.165\n",
      "Epoch: 21 cost = 0.098\n",
      "Epoch: 31 cost = 0.079\n",
      "Epoch: 41 cost = 0.071\n",
      "Epoch: 51 cost = 0.067\n",
      "Epoch: 61 cost = 0.065\n",
      "Epoch: 71 cost = 0.063\n",
      "Epoch: 81 cost = 0.062\n",
      "Epoch: 91 cost = 0.061\n",
      "Epoch: 101 cost = 0.061\n",
      "Epoch: 111 cost = 0.060\n",
      "Epoch: 121 cost = 0.060\n",
      "Epoch: 131 cost = 0.059\n",
      "Epoch: 141 cost = 0.059\n",
      "Epoch: 151 cost = 0.059\n",
      "Epoch: 161 cost = 0.059\n",
      "Epoch: 171 cost = 0.059\n",
      "Epoch: 181 cost = 0.058\n",
      "Epoch: 191 cost = 0.058\n",
      "Epoch: 201 cost = 0.058\n",
      "Epoch: 211 cost = 0.058\n",
      "Epoch: 221 cost = 0.058\n",
      "Epoch: 231 cost = 0.058\n",
      "Epoch: 241 cost = 0.058\n",
      "Epoch: 251 cost = 0.058\n",
      "Epoch: 261 cost = 0.058\n",
      "Epoch: 271 cost = 0.058\n",
      "Epoch: 281 cost = 0.058\n",
      "Epoch: 291 cost = 0.058\n",
      "0.0617567\n"
     ]
    }
   ],
   "source": [
    "with tf.Session() as sess:\n",
    "    sess.run(init_op)\n",
    "    total_batch = int(len(y_train) / batch_size)\n",
    "    for epoch in range(epochs):\n",
    "        avg_cost = 0\n",
    "        for i in range(total_batch):\n",
    "            batch_x, batch_y = X_train[i * batch_size:min(i * batch_size + batch_size, len(X_train))], \\\n",
    "                             y_train[i * batch_size:min(i * batch_size + batch_size, len(y_train))]\n",
    "            _, c = sess.run([optimizer, mse], feed_dict={x: batch_x, y: batch_y})\n",
    "            avg_cost += c / total_batch\n",
    "        if epoch % 10 == 0:\n",
    "            print 'Epoch:', (epoch + 1), 'cost =', '{:.3f}'.format(avg_cost)\n",
    "    print sess.run(mse, feed_dict={x: X_test, y: y_test})"
   ]
  },
  {
   "cell_type": "code",
   "execution_count": 29,
   "metadata": {},
   "outputs": [],
   "source": [
    "words = []\n",
    "true_out = []\n",
    "for j in range(len(X_test)):\n",
    "    for i in range(len(inp)):\n",
    "        if cmp(inp[i],X_test[j])==0:\n",
    "            words.append(X_words[i])\n",
    "            true_out.append(Y[i])"
   ]
  },
  {
   "cell_type": "code",
   "execution_count": 30,
   "metadata": {},
   "outputs": [
    {
     "name": "stdout",
     "output_type": "stream",
     "text": [
      "('sound', 'landscape') soundscape\n"
     ]
    }
   ],
   "source": [
    "print words[0],true_out[0]"
   ]
  },
  {
   "cell_type": "code",
   "execution_count": 31,
   "metadata": {},
   "outputs": [
    {
     "name": "stdout",
     "output_type": "stream",
     "text": [
      "soundscape soundscape\n",
      "spamalot camelot\n",
      "spamdexing indexing\n",
      "spanglish spanglish\n",
      "spife spife\n",
      "sporgery sporgery\n",
      "spork spork\n",
      "squiggle squiggle\n",
      "squircle squircle\n",
      "starchitect starchitect\n",
      "staycation vacation\n",
      "streetball streetball\n",
      "strunk strunk\n",
      "swaption swaption\n",
      "swenglish swenglish\n",
      "taglish taglish\n",
      "tangelo tangelo\n",
      "tanglish tanglish\n",
      "tanorexia tanorexia\n",
      "taxachusetts massachusetts\n",
      "tehrangeles tehrangeles\n",
      "telematics telematics\n",
      "televangelist televangelist\n",
      "thermistor thermistor\n",
      "threepeat threepeat\n",
      "tigon tigon\n",
      "tofurkey tofurkey\n",
      "tomacco tomacco\n",
      "toonie toonie\n",
      "transceiver transceiver\n",
      "transistor transistor\n",
      "transponder transponder\n",
      "travelocity travelocity\n",
      "treap treap\n",
      "triticale triticale\n",
      "troopergate troopergate\n",
      "twincest twincest\n",
      "urinalysis urinalysis\n",
      "verizon verizon\n",
      "vermonster vermonster\n",
      "vitamer vitamer\n",
      "vitamin vitamine\n",
      "vlog vlog\n",
      "voxel voxel\n",
      "wallaroo wallaroo\n",
      "waluigi waluigi\n",
      "wario wario\n",
      "webcast broadcast\n",
      "wenglish wenglish\n",
      "wexis wexis\n",
      "wholphin wholphin\n",
      "wigger wigger\n",
      "wikiality eality\n",
      "wikipedia wikpedia\n",
      "wikiquette wikiquette\n",
      "wiktionary wiktionary\n",
      "wintel wintel\n",
      "wonkavator vator\n",
      "woon woon\n",
      "workaholic coholic\n",
      "yinglish yinglish\n",
      "youthanasia youthanasia\n",
      "yugopotamia yugopotamia\n",
      "zonkey zonkey\n",
      "zony zony\n",
      "zorse zorse\n"
     ]
    }
   ],
   "source": [
    "for k1 in range(len(X_test)):\n",
    "    ans = 0 \n",
    "    best = '-'\n",
    "#     print words[k1][0],words[k1][1]\n",
    "    for i in range(len(words[k1][0])):\n",
    "        for j in range(len(words[k1][1])):\n",
    "            str1 = words[k1][0][0:i]+words[k1][1][j:]\n",
    "            try:\n",
    "                k = cosine(en_dictionary[str1],y_test[k1]) \n",
    "                if k>ans:\n",
    "                    best = str1\n",
    "                    ans = k\n",
    "#                 print true_out[k1],str1,k \n",
    "            except:\n",
    "                er=0\n",
    "    print true_out[k1],best\n",
    "#     print '\\n'"
   ]
  },
  {
   "cell_type": "code",
   "execution_count": null,
   "metadata": {
    "collapsed": true
   },
   "outputs": [],
   "source": []
  }
 ],
 "metadata": {
  "kernelspec": {
   "display_name": "Python 2",
   "language": "python",
   "name": "python2"
  }
 },
 "nbformat": 4,
 "nbformat_minor": 2
}
